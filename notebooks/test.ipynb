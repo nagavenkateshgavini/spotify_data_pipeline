{
 "cells": [
  {
   "cell_type": "code",
   "execution_count": 2,
   "id": "986fb1c8-8f94-4d5c-8701-39c3116d51fe",
   "metadata": {},
   "outputs": [],
   "source": [
    "import spotipy\n",
    "from spotipy.oauth2 import SpotifyClientCredentials"
   ]
  },
  {
   "cell_type": "code",
   "execution_count": 3,
   "id": "77a742b1-81c4-4cd7-b2e1-78da676cfd29",
   "metadata": {},
   "outputs": [],
   "source": [
    "auth_manager = SpotifyClientCredentials(client_id=\"cf7e943c5dd34143a667c6ce3db0d837\", client_secret=\"325a37e97e4c4165a9e48baaa7f8c08d\")\n",
    "sp = spotipy.Spotify(auth_manager=auth_manager)"
   ]
  },
  {
   "cell_type": "code",
   "execution_count": 4,
   "id": "494cf89e-54e9-45c3-b55c-673cc3939649",
   "metadata": {},
   "outputs": [],
   "source": [
    "playlist_link = \"https://open.spotify.com/playlist/5ABHKGoOzxkaa28ttQV9sE\""
   ]
  },
  {
   "cell_type": "code",
   "execution_count": 5,
   "id": "3d4f338a",
   "metadata": {},
   "outputs": [],
   "source": [
    "playlist_id = playlist_link.split(\"/\")[-1]"
   ]
  },
  {
   "cell_type": "code",
   "execution_count": 6,
   "id": "3b7a1423",
   "metadata": {},
   "outputs": [
    {
     "data": {
      "text/plain": [
       "'5ABHKGoOzxkaa28ttQV9sE'"
      ]
     },
     "execution_count": 6,
     "metadata": {},
     "output_type": "execute_result"
    }
   ],
   "source": [
    "playlist_id"
   ]
  },
  {
   "cell_type": "code",
   "execution_count": 7,
   "id": "c47e7750",
   "metadata": {},
   "outputs": [],
   "source": [
    "fp = open(\"test_data.json\", \"w\")\n",
    "import json\n",
    "sp.playlist_tracks(playlist_id)\n",
    "fp.write(json.dumps(sp.playlist_tracks(playlist_id)))\n",
    "fp.close()"
   ]
  },
  {
   "cell_type": "code",
   "execution_count": null,
   "id": "fdeeb610",
   "metadata": {},
   "outputs": [],
   "source": [
    "data = sp.playlist_tracks(playlist_id)"
   ]
  },
  {
   "cell_type": "code",
   "execution_count": 9,
   "id": "db1d11a3",
   "metadata": {},
   "outputs": [
    {
     "ename": "SyntaxError",
     "evalue": "invalid syntax (4261300602.py, line 1)",
     "output_type": "error",
     "traceback": [
      "\u001b[0;36m  Cell \u001b[0;32mIn[9], line 1\u001b[0;36m\u001b[0m\n\u001b[0;31m    for row in data\u001b[0m\n\u001b[0m                   ^\u001b[0m\n\u001b[0;31mSyntaxError\u001b[0m\u001b[0;31m:\u001b[0m invalid syntax\n"
     ]
    }
   ],
   "source": [
    "album_data = []\n",
    "for row in data:\n",
    "    album = row['track']['album']\n",
    "    album_id = album['id']\n",
    "    album_name = album['name']\n",
    "    album_release_date = album['release_date']\n",
    "    album_total_tracks = album['total_tracks']\n",
    "    album_url = album['external_urls']['spotify']\n",
    "    album_element = {\n",
    "        'album_id': album_id,\n",
    "        'name': album_name,\n",
    "        'release_date': album_release_date,\n",
    "        'total_tracks': album_total_tracks,\n",
    "        'url': album_url\n",
    "    }\n",
    "    \n",
    "    album_data.append(album_element)"
   ]
  },
  {
   "cell_type": "code",
   "execution_count": null,
   "id": "e184df28",
   "metadata": {},
   "outputs": [],
   "source": []
  }
 ],
 "metadata": {
  "kernelspec": {
   "display_name": "Python 3 (ipykernel)",
   "language": "python",
   "name": "python3"
  },
  "language_info": {
   "codemirror_mode": {
    "name": "ipython",
    "version": 3
   },
   "file_extension": ".py",
   "mimetype": "text/x-python",
   "name": "python",
   "nbconvert_exporter": "python",
   "pygments_lexer": "ipython3",
   "version": "3.9.18"
  }
 },
 "nbformat": 4,
 "nbformat_minor": 5
}
